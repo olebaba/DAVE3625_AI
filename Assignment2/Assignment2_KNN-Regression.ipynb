{
 "cells": [
  {
   "cell_type": "markdown",
   "metadata": {},
   "source": [
    "## Imports"
   ]
  },
  {
   "cell_type": "code",
   "execution_count": 1,
   "metadata": {},
   "outputs": [],
   "source": [
    "import numpy as np\n",
    "import pandas as pd\n",
    "\n",
    "import math,datetime\n",
    "import time\n",
    "\n",
    "import matplotlib.pyplot as plt\n",
    "\n",
    "from sklearn.neighbors import KNeighborsRegressor\n",
    "from sklearn.metrics import accuracy_score\n",
    "from sklearn.model_selection import train_test_split "
   ]
  },
  {
   "cell_type": "code",
   "execution_count": 2,
   "metadata": {},
   "outputs": [
    {
     "data": {
      "text/html": [
       "<div>\n",
       "<style scoped>\n",
       "    .dataframe tbody tr th:only-of-type {\n",
       "        vertical-align: middle;\n",
       "    }\n",
       "\n",
       "    .dataframe tbody tr th {\n",
       "        vertical-align: top;\n",
       "    }\n",
       "\n",
       "    .dataframe thead th {\n",
       "        text-align: right;\n",
       "    }\n",
       "</style>\n",
       "<table border=\"1\" class=\"dataframe\">\n",
       "  <thead>\n",
       "    <tr style=\"text-align: right;\">\n",
       "      <th></th>\n",
       "      <th>Open</th>\n",
       "      <th>High</th>\n",
       "      <th>Low</th>\n",
       "      <th>Close</th>\n",
       "      <th>Adj Close</th>\n",
       "      <th>Volume</th>\n",
       "    </tr>\n",
       "    <tr>\n",
       "      <th>Date</th>\n",
       "      <th></th>\n",
       "      <th></th>\n",
       "      <th></th>\n",
       "      <th></th>\n",
       "      <th></th>\n",
       "      <th></th>\n",
       "    </tr>\n",
       "  </thead>\n",
       "  <tbody>\n",
       "    <tr>\n",
       "      <th>2003-12-18</th>\n",
       "      <td>19.482599</td>\n",
       "      <td>19.596901</td>\n",
       "      <td>19.025499</td>\n",
       "      <td>19.139799</td>\n",
       "      <td>19.139799</td>\n",
       "      <td>4978496.0</td>\n",
       "    </tr>\n",
       "    <tr>\n",
       "      <th>2003-12-19</th>\n",
       "      <td>19.368299</td>\n",
       "      <td>19.425501</td>\n",
       "      <td>18.282801</td>\n",
       "      <td>18.454201</td>\n",
       "      <td>18.454201</td>\n",
       "      <td>1410901.0</td>\n",
       "    </tr>\n",
       "    <tr>\n",
       "      <th>2003-12-22</th>\n",
       "      <td>18.739901</td>\n",
       "      <td>18.739901</td>\n",
       "      <td>17.997101</td>\n",
       "      <td>18.054300</td>\n",
       "      <td>18.054300</td>\n",
       "      <td>137047.0</td>\n",
       "    </tr>\n",
       "    <tr>\n",
       "      <th>2003-12-23</th>\n",
       "      <td>17.997101</td>\n",
       "      <td>17.997101</td>\n",
       "      <td>17.368700</td>\n",
       "      <td>17.425800</td>\n",
       "      <td>17.425800</td>\n",
       "      <td>229418.0</td>\n",
       "    </tr>\n",
       "    <tr>\n",
       "      <th>2003-12-29</th>\n",
       "      <td>17.425800</td>\n",
       "      <td>17.425800</td>\n",
       "      <td>16.854500</td>\n",
       "      <td>17.254400</td>\n",
       "      <td>17.254400</td>\n",
       "      <td>196206.0</td>\n",
       "    </tr>\n",
       "    <tr>\n",
       "      <th>...</th>\n",
       "      <td>...</td>\n",
       "      <td>...</td>\n",
       "      <td>...</td>\n",
       "      <td>...</td>\n",
       "      <td>...</td>\n",
       "      <td>...</td>\n",
       "    </tr>\n",
       "    <tr>\n",
       "      <th>2020-10-12</th>\n",
       "      <td>0.709000</td>\n",
       "      <td>0.710000</td>\n",
       "      <td>0.650000</td>\n",
       "      <td>0.676800</td>\n",
       "      <td>0.676800</td>\n",
       "      <td>48320475.0</td>\n",
       "    </tr>\n",
       "    <tr>\n",
       "      <th>2020-10-13</th>\n",
       "      <td>0.676800</td>\n",
       "      <td>0.676800</td>\n",
       "      <td>0.600000</td>\n",
       "      <td>0.600600</td>\n",
       "      <td>0.600600</td>\n",
       "      <td>47786200.0</td>\n",
       "    </tr>\n",
       "    <tr>\n",
       "      <th>2020-10-14</th>\n",
       "      <td>0.601000</td>\n",
       "      <td>0.640000</td>\n",
       "      <td>0.596200</td>\n",
       "      <td>0.626000</td>\n",
       "      <td>0.626000</td>\n",
       "      <td>37534949.0</td>\n",
       "    </tr>\n",
       "    <tr>\n",
       "      <th>2020-10-15</th>\n",
       "      <td>0.626000</td>\n",
       "      <td>0.626000</td>\n",
       "      <td>0.585000</td>\n",
       "      <td>0.605000</td>\n",
       "      <td>0.605000</td>\n",
       "      <td>26737615.0</td>\n",
       "    </tr>\n",
       "    <tr>\n",
       "      <th>2020-10-16</th>\n",
       "      <td>0.605000</td>\n",
       "      <td>0.620000</td>\n",
       "      <td>0.601000</td>\n",
       "      <td>0.610600</td>\n",
       "      <td>0.610600</td>\n",
       "      <td>15754218.0</td>\n",
       "    </tr>\n",
       "  </tbody>\n",
       "</table>\n",
       "<p>4218 rows × 6 columns</p>\n",
       "</div>"
      ],
      "text/plain": [
       "                 Open       High        Low      Close  Adj Close      Volume\n",
       "Date                                                                         \n",
       "2003-12-18  19.482599  19.596901  19.025499  19.139799  19.139799   4978496.0\n",
       "2003-12-19  19.368299  19.425501  18.282801  18.454201  18.454201   1410901.0\n",
       "2003-12-22  18.739901  18.739901  17.997101  18.054300  18.054300    137047.0\n",
       "2003-12-23  17.997101  17.997101  17.368700  17.425800  17.425800    229418.0\n",
       "2003-12-29  17.425800  17.425800  16.854500  17.254400  17.254400    196206.0\n",
       "...               ...        ...        ...        ...        ...         ...\n",
       "2020-10-12   0.709000   0.710000   0.650000   0.676800   0.676800  48320475.0\n",
       "2020-10-13   0.676800   0.676800   0.600000   0.600600   0.600600  47786200.0\n",
       "2020-10-14   0.601000   0.640000   0.596200   0.626000   0.626000  37534949.0\n",
       "2020-10-15   0.626000   0.626000   0.585000   0.605000   0.605000  26737615.0\n",
       "2020-10-16   0.605000   0.620000   0.601000   0.610600   0.610600  15754218.0\n",
       "\n",
       "[4218 rows x 6 columns]"
      ]
     },
     "execution_count": 2,
     "metadata": {},
     "output_type": "execute_result"
    }
   ],
   "source": [
    "dataset = pd.read_csv(\"datasets/NAS.csv\", index_col='Date', parse_dates=True)\n",
    "dataset.dropna() #drops NaN rows"
   ]
  },
  {
   "cell_type": "code",
   "execution_count": 3,
   "metadata": {},
   "outputs": [
    {
     "name": "stdout",
     "output_type": "stream",
     "text": [
      "<class 'pandas.core.frame.DataFrame'>\n",
      "DatetimeIndex: 4253 entries, 2003-12-18 to 2020-10-16\n",
      "Data columns (total 6 columns):\n",
      " #   Column     Non-Null Count  Dtype  \n",
      "---  ------     --------------  -----  \n",
      " 0   Open       4218 non-null   float64\n",
      " 1   High       4218 non-null   float64\n",
      " 2   Low        4218 non-null   float64\n",
      " 3   Close      4218 non-null   float64\n",
      " 4   Adj Close  4218 non-null   float64\n",
      " 5   Volume     4218 non-null   float64\n",
      "dtypes: float64(6)\n",
      "memory usage: 232.6 KB\n"
     ]
    }
   ],
   "source": [
    "dataset.info()"
   ]
  },
  {
   "cell_type": "markdown",
   "metadata": {},
   "source": [
    "### Calculate change in percentage"
   ]
  },
  {
   "cell_type": "code",
   "execution_count": 4,
   "metadata": {},
   "outputs": [
    {
     "data": {
      "text/html": [
       "<div>\n",
       "<style scoped>\n",
       "    .dataframe tbody tr th:only-of-type {\n",
       "        vertical-align: middle;\n",
       "    }\n",
       "\n",
       "    .dataframe tbody tr th {\n",
       "        vertical-align: top;\n",
       "    }\n",
       "\n",
       "    .dataframe thead th {\n",
       "        text-align: right;\n",
       "    }\n",
       "</style>\n",
       "<table border=\"1\" class=\"dataframe\">\n",
       "  <thead>\n",
       "    <tr style=\"text-align: right;\">\n",
       "      <th></th>\n",
       "      <th>Open-Close</th>\n",
       "      <th>High-Low</th>\n",
       "    </tr>\n",
       "    <tr>\n",
       "      <th>Date</th>\n",
       "      <th></th>\n",
       "      <th></th>\n",
       "    </tr>\n",
       "  </thead>\n",
       "  <tbody>\n",
       "    <tr>\n",
       "      <th>2003-12-18</th>\n",
       "      <td>-1.759519</td>\n",
       "      <td>3.003348</td>\n",
       "    </tr>\n",
       "    <tr>\n",
       "      <th>2003-12-19</th>\n",
       "      <td>-4.719557</td>\n",
       "      <td>6.250136</td>\n",
       "    </tr>\n",
       "    <tr>\n",
       "      <th>2003-12-22</th>\n",
       "      <td>-3.658509</td>\n",
       "      <td>4.127331</td>\n",
       "    </tr>\n",
       "    <tr>\n",
       "      <th>2003-12-23</th>\n",
       "      <td>-3.174406</td>\n",
       "      <td>3.618008</td>\n",
       "    </tr>\n",
       "    <tr>\n",
       "      <th>2003-12-24</th>\n",
       "      <td>NaN</td>\n",
       "      <td>NaN</td>\n",
       "    </tr>\n",
       "  </tbody>\n",
       "</table>\n",
       "</div>"
      ],
      "text/plain": [
       "            Open-Close  High-Low\n",
       "Date                            \n",
       "2003-12-18   -1.759519  3.003348\n",
       "2003-12-19   -4.719557  6.250136\n",
       "2003-12-22   -3.658509  4.127331\n",
       "2003-12-23   -3.174406  3.618008\n",
       "2003-12-24         NaN       NaN"
      ]
     },
     "execution_count": 4,
     "metadata": {},
     "output_type": "execute_result"
    }
   ],
   "source": [
    "#change in percentage\n",
    "dataset['Open-Close']= (dataset.Close - dataset.Open) / dataset['Open']*100\n",
    "dataset['High-Low']  = (dataset.High - dataset.Low) /dataset['Low']*100\n",
    "X= dataset[['Open-Close', 'High-Low']]\n",
    "X.dropna()\n",
    "X.head()"
   ]
  },
  {
   "cell_type": "code",
   "execution_count": 5,
   "metadata": {},
   "outputs": [],
   "source": [
    "dataset = dataset[['Close','High-Low','Open-Close','Volume']]"
   ]
  },
  {
   "cell_type": "code",
   "execution_count": 6,
   "metadata": {},
   "outputs": [
    {
     "name": "stdout",
     "output_type": "stream",
     "text": [
      "Date\n",
      "2003-12-18    16.2831\n",
      "2003-12-19    16.4545\n",
      "2003-12-22    16.5116\n",
      "2003-12-23    15.7118\n",
      "2003-12-29    16.1117\n",
      "               ...   \n",
      "2020-08-12     0.6768\n",
      "2020-08-13     0.6006\n",
      "2020-08-14     0.6260\n",
      "2020-08-17     0.6050\n",
      "2020-08-18     0.6106\n",
      "Name: label, Length: 4146, dtype: float64\n"
     ]
    }
   ],
   "source": [
    "forecast_Col = 'Close'\n",
    "forecast_out = int(math.ceil(0.01*len(dataset)))\n",
    "dataset['label'] = dataset[forecast_Col].shift(-forecast_out)\n",
    "dataset.dropna(inplace=True)\n",
    "print(dataset['label'])"
   ]
  },
  {
   "cell_type": "code",
   "execution_count": 7,
   "metadata": {},
   "outputs": [
    {
     "data": {
      "text/html": [
       "<div>\n",
       "<style scoped>\n",
       "    .dataframe tbody tr th:only-of-type {\n",
       "        vertical-align: middle;\n",
       "    }\n",
       "\n",
       "    .dataframe tbody tr th {\n",
       "        vertical-align: top;\n",
       "    }\n",
       "\n",
       "    .dataframe thead th {\n",
       "        text-align: right;\n",
       "    }\n",
       "</style>\n",
       "<table border=\"1\" class=\"dataframe\">\n",
       "  <thead>\n",
       "    <tr style=\"text-align: right;\">\n",
       "      <th></th>\n",
       "      <th>Close</th>\n",
       "      <th>High-Low</th>\n",
       "      <th>Open-Close</th>\n",
       "      <th>Volume</th>\n",
       "      <th>label</th>\n",
       "    </tr>\n",
       "    <tr>\n",
       "      <th>Date</th>\n",
       "      <th></th>\n",
       "      <th></th>\n",
       "      <th></th>\n",
       "      <th></th>\n",
       "      <th></th>\n",
       "    </tr>\n",
       "  </thead>\n",
       "  <tbody>\n",
       "    <tr>\n",
       "      <th>2020-08-12</th>\n",
       "      <td>1.4400</td>\n",
       "      <td>6.142857</td>\n",
       "      <td>-0.689655</td>\n",
       "      <td>49840531.0</td>\n",
       "      <td>0.6768</td>\n",
       "    </tr>\n",
       "    <tr>\n",
       "      <th>2020-08-13</th>\n",
       "      <td>1.3200</td>\n",
       "      <td>13.643411</td>\n",
       "      <td>-9.805261</td>\n",
       "      <td>55693758.0</td>\n",
       "      <td>0.6006</td>\n",
       "    </tr>\n",
       "    <tr>\n",
       "      <th>2020-08-14</th>\n",
       "      <td>1.2510</td>\n",
       "      <td>9.362224</td>\n",
       "      <td>-5.227273</td>\n",
       "      <td>40517551.0</td>\n",
       "      <td>0.6260</td>\n",
       "    </tr>\n",
       "    <tr>\n",
       "      <th>2020-08-17</th>\n",
       "      <td>1.3675</td>\n",
       "      <td>8.907363</td>\n",
       "      <td>7.719575</td>\n",
       "      <td>25817961.0</td>\n",
       "      <td>0.6050</td>\n",
       "    </tr>\n",
       "    <tr>\n",
       "      <th>2020-08-18</th>\n",
       "      <td>1.3000</td>\n",
       "      <td>8.649706</td>\n",
       "      <td>-6.340058</td>\n",
       "      <td>30726005.0</td>\n",
       "      <td>0.6106</td>\n",
       "    </tr>\n",
       "  </tbody>\n",
       "</table>\n",
       "</div>"
      ],
      "text/plain": [
       "             Close   High-Low  Open-Close      Volume   label\n",
       "Date                                                         \n",
       "2020-08-12  1.4400   6.142857   -0.689655  49840531.0  0.6768\n",
       "2020-08-13  1.3200  13.643411   -9.805261  55693758.0  0.6006\n",
       "2020-08-14  1.2510   9.362224   -5.227273  40517551.0  0.6260\n",
       "2020-08-17  1.3675   8.907363    7.719575  25817961.0  0.6050\n",
       "2020-08-18  1.3000   8.649706   -6.340058  30726005.0  0.6106"
      ]
     },
     "execution_count": 7,
     "metadata": {},
     "output_type": "execute_result"
    }
   ],
   "source": [
    "input = np.array(dataset.drop(['label'], axis = 1))\n",
    "target = np.array(dataset['label'])\n",
    "dataset.tail()"
   ]
  },
  {
   "cell_type": "markdown",
   "metadata": {},
   "source": [
    "### Splitting data to test and train"
   ]
  },
  {
   "cell_type": "code",
   "execution_count": 20,
   "metadata": {},
   "outputs": [],
   "source": [
    "X_train, X_test, Y_train, Y_test = train_test_split(input,target, test_size=0.20)"
   ]
  },
  {
   "cell_type": "code",
   "execution_count": 21,
   "metadata": {},
   "outputs": [
    {
     "data": {
      "text/plain": [
       "(3316, 4)"
      ]
     },
     "execution_count": 21,
     "metadata": {},
     "output_type": "execute_result"
    }
   ],
   "source": [
    "np.shape(X_train)"
   ]
  },
  {
   "cell_type": "code",
   "execution_count": 57,
   "metadata": {},
   "outputs": [
    {
     "name": "stdout",
     "output_type": "stream",
     "text": [
      "Training Time:- 0.004001140594482422\n",
      "Accuracy:- 0.38682446099524226\n"
     ]
    }
   ],
   "source": [
    "startknn = time.time()\n",
    "\n",
    "knn = KNeighborsRegressor(24)\n",
    "knn.fit(X_train, Y_train)\n",
    "\n",
    "endknn = time.time()\n",
    "\n",
    "time_knn = endknn - startknn\n",
    "\n",
    "print('Training Time:- {}'.format(time_knn))\n",
    "print('Accuracy:- {}'.format(knn.score(X_test, Y_test)))\n"
   ]
  },
  {
   "cell_type": "markdown",
   "metadata": {},
   "source": [
    "### Accuracy ends up at around 39% with k=24"
   ]
  },
  {
   "cell_type": "code",
   "execution_count": 58,
   "metadata": {},
   "outputs": [
    {
     "name": "stdout",
     "output_type": "stream",
     "text": [
      "[ 1.69056667  1.788875    1.709975    2.13915     2.36087083  2.49949583\n",
      "  9.15170404  9.15170404  2.37607917  2.40679583 13.90306237 10.60435404\n",
      " 12.41306254 10.36899571 15.60331233  2.38449583 26.96590471 13.90306237\n",
      " 10.37328737 10.48424571  2.40679583  1.73401667  1.788875   10.57995404\n",
      "  2.37712083  2.30289167  2.40679583  2.49949583  2.49949583  2.26062917\n",
      " 10.56078737  2.37482917  2.37607917  2.26062917  1.93170833  1.56746667\n",
      "  1.69056667  1.63087917  1.87483333  1.74495833  1.88241667  2.40679583\n",
      "  1.85523333]\n"
     ]
    }
   ],
   "source": [
    "X = input[:-forecast_out]\n",
    "X_old = input[-forecast_out:]\n",
    "\n",
    "Forecast_set = knn.predict(X_old)\n",
    "print(Forecast_set)"
   ]
  },
  {
   "cell_type": "code",
   "execution_count": null,
   "metadata": {},
   "outputs": [],
   "source": []
  }
 ],
 "metadata": {
  "kernelspec": {
   "display_name": "Python 3",
   "language": "python",
   "name": "python3"
  },
  "language_info": {
   "codemirror_mode": {
    "name": "ipython",
    "version": 3
   },
   "file_extension": ".py",
   "mimetype": "text/x-python",
   "name": "python",
   "nbconvert_exporter": "python",
   "pygments_lexer": "ipython3",
   "version": "3.8.5"
  }
 },
 "nbformat": 4,
 "nbformat_minor": 4
}
